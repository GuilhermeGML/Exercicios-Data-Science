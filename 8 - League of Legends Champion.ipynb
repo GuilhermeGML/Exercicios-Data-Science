{
 "cells": [
  {
   "cell_type": "code",
   "execution_count": 1,
   "id": "eb771fc4",
   "metadata": {},
   "outputs": [],
   "source": [
    "# Libs para Modelagem e Matrizez\n",
    "import numpy as np\n",
    "import pandas as pd\n",
    "\n",
    "# Libs para anaálises gráficas\n",
    "import matplotlib.pyplot as plt\n",
    "import seaborn as sns\n",
    "\n",
    "# Lib para ignorar avisos\n",
    "import warnings\n",
    "\n",
    "# Desabilitando avisos\n",
    "warnings.filterwarnings('ignore')"
   ]
  },
  {
   "cell_type": "code",
   "execution_count": 4,
   "id": "6a6fff3f",
   "metadata": {},
   "outputs": [],
   "source": [
    "lol = pd.read_csv(\"8 - League of Legends Champion.csv\", sep=';')"
   ]
  },
  {
   "cell_type": "code",
   "execution_count": 5,
   "id": "3b62dcbe",
   "metadata": {},
   "outputs": [
    {
     "data": {
      "text/html": [
       "<div>\n",
       "<style scoped>\n",
       "    .dataframe tbody tr th:only-of-type {\n",
       "        vertical-align: middle;\n",
       "    }\n",
       "\n",
       "    .dataframe tbody tr th {\n",
       "        vertical-align: top;\n",
       "    }\n",
       "\n",
       "    .dataframe thead th {\n",
       "        text-align: right;\n",
       "    }\n",
       "</style>\n",
       "<table border=\"1\" class=\"dataframe\">\n",
       "  <thead>\n",
       "    <tr style=\"text-align: right;\">\n",
       "      <th></th>\n",
       "      <th>Name</th>\n",
       "      <th>Class</th>\n",
       "      <th>Role</th>\n",
       "      <th>Tier</th>\n",
       "      <th>Score</th>\n",
       "      <th>Trend</th>\n",
       "      <th>Win %</th>\n",
       "      <th>Role %</th>\n",
       "      <th>Pick %</th>\n",
       "      <th>Ban %</th>\n",
       "      <th>KDA</th>\n",
       "    </tr>\n",
       "  </thead>\n",
       "  <tbody>\n",
       "    <tr>\n",
       "      <th>0</th>\n",
       "      <td>Aatrox</td>\n",
       "      <td>Fighter</td>\n",
       "      <td>TOP</td>\n",
       "      <td>A</td>\n",
       "      <td>58.25</td>\n",
       "      <td>6.52</td>\n",
       "      <td>49.97%</td>\n",
       "      <td>94.62%</td>\n",
       "      <td>4.43%</td>\n",
       "      <td>2.03%</td>\n",
       "      <td>1.97</td>\n",
       "    </tr>\n",
       "    <tr>\n",
       "      <th>1</th>\n",
       "      <td>Ahri</td>\n",
       "      <td>Mage</td>\n",
       "      <td>MID</td>\n",
       "      <td>A</td>\n",
       "      <td>53.21</td>\n",
       "      <td>-0.24</td>\n",
       "      <td>49.93%</td>\n",
       "      <td>93.47%</td>\n",
       "      <td>4.62%</td>\n",
       "      <td>1.04%</td>\n",
       "      <td>2.56</td>\n",
       "    </tr>\n",
       "    <tr>\n",
       "      <th>2</th>\n",
       "      <td>Akali</td>\n",
       "      <td>Assassin</td>\n",
       "      <td>MID</td>\n",
       "      <td>S</td>\n",
       "      <td>65.30</td>\n",
       "      <td>6.51</td>\n",
       "      <td>48.59%</td>\n",
       "      <td>65.65%</td>\n",
       "      <td>8.16%</td>\n",
       "      <td>12.88%</td>\n",
       "      <td>2.34</td>\n",
       "    </tr>\n",
       "    <tr>\n",
       "      <th>3</th>\n",
       "      <td>Akali</td>\n",
       "      <td>Assassin</td>\n",
       "      <td>TOP</td>\n",
       "      <td>A</td>\n",
       "      <td>57.87</td>\n",
       "      <td>3.34</td>\n",
       "      <td>48.57%</td>\n",
       "      <td>34.06%</td>\n",
       "      <td>4.24%</td>\n",
       "      <td>12.88%</td>\n",
       "      <td>2.04</td>\n",
       "    </tr>\n",
       "    <tr>\n",
       "      <th>4</th>\n",
       "      <td>Akshan</td>\n",
       "      <td>Marksman</td>\n",
       "      <td>MID</td>\n",
       "      <td>S</td>\n",
       "      <td>59.85</td>\n",
       "      <td>0.65</td>\n",
       "      <td>51.46%</td>\n",
       "      <td>58.01%</td>\n",
       "      <td>4.83%</td>\n",
       "      <td>21.91%</td>\n",
       "      <td>2.23</td>\n",
       "    </tr>\n",
       "    <tr>\n",
       "      <th>...</th>\n",
       "      <td>...</td>\n",
       "      <td>...</td>\n",
       "      <td>...</td>\n",
       "      <td>...</td>\n",
       "      <td>...</td>\n",
       "      <td>...</td>\n",
       "      <td>...</td>\n",
       "      <td>...</td>\n",
       "      <td>...</td>\n",
       "      <td>...</td>\n",
       "      <td>...</td>\n",
       "    </tr>\n",
       "    <tr>\n",
       "      <th>227</th>\n",
       "      <td>Ziggs</td>\n",
       "      <td>Mage</td>\n",
       "      <td>MID</td>\n",
       "      <td>C</td>\n",
       "      <td>36.44</td>\n",
       "      <td>-0.60</td>\n",
       "      <td>48.37%</td>\n",
       "      <td>24.85%</td>\n",
       "      <td>0.86%</td>\n",
       "      <td>0.60%</td>\n",
       "      <td>2.36</td>\n",
       "    </tr>\n",
       "    <tr>\n",
       "      <th>228</th>\n",
       "      <td>Zilean</td>\n",
       "      <td>Support</td>\n",
       "      <td>MID</td>\n",
       "      <td>A</td>\n",
       "      <td>52.20</td>\n",
       "      <td>1.35</td>\n",
       "      <td>54.19%</td>\n",
       "      <td>14.12%</td>\n",
       "      <td>0.56%</td>\n",
       "      <td>1.40%</td>\n",
       "      <td>3.46</td>\n",
       "    </tr>\n",
       "    <tr>\n",
       "      <th>229</th>\n",
       "      <td>Zilean</td>\n",
       "      <td>Support</td>\n",
       "      <td>SUPPORT</td>\n",
       "      <td>A</td>\n",
       "      <td>49.44</td>\n",
       "      <td>1.68</td>\n",
       "      <td>50.83%</td>\n",
       "      <td>81.95%</td>\n",
       "      <td>3.38%</td>\n",
       "      <td>1.40%</td>\n",
       "      <td>3.03</td>\n",
       "    </tr>\n",
       "    <tr>\n",
       "      <th>230</th>\n",
       "      <td>Zoe</td>\n",
       "      <td>Mage</td>\n",
       "      <td>MID</td>\n",
       "      <td>A</td>\n",
       "      <td>49.77</td>\n",
       "      <td>4.62</td>\n",
       "      <td>49.84%</td>\n",
       "      <td>94.18%</td>\n",
       "      <td>3.62%</td>\n",
       "      <td>1.41%</td>\n",
       "      <td>2.58</td>\n",
       "    </tr>\n",
       "    <tr>\n",
       "      <th>231</th>\n",
       "      <td>Zyra</td>\n",
       "      <td>Mage</td>\n",
       "      <td>SUPPORT</td>\n",
       "      <td>A</td>\n",
       "      <td>49.55</td>\n",
       "      <td>1.74</td>\n",
       "      <td>52.18%</td>\n",
       "      <td>92.46%</td>\n",
       "      <td>3.85%</td>\n",
       "      <td>1.96%</td>\n",
       "      <td>2.13</td>\n",
       "    </tr>\n",
       "  </tbody>\n",
       "</table>\n",
       "<p>232 rows × 11 columns</p>\n",
       "</div>"
      ],
      "text/plain": [
       "       Name     Class     Role Tier  Score  Trend   Win %  Role % Pick %  \\\n",
       "0    Aatrox   Fighter      TOP    A  58.25   6.52  49.97%  94.62%  4.43%   \n",
       "1      Ahri      Mage      MID    A  53.21  -0.24  49.93%  93.47%  4.62%   \n",
       "2     Akali  Assassin      MID    S  65.30   6.51  48.59%  65.65%  8.16%   \n",
       "3     Akali  Assassin      TOP    A  57.87   3.34  48.57%  34.06%  4.24%   \n",
       "4    Akshan  Marksman      MID    S  59.85   0.65  51.46%  58.01%  4.83%   \n",
       "..      ...       ...      ...  ...    ...    ...     ...     ...    ...   \n",
       "227   Ziggs      Mage      MID    C  36.44  -0.60  48.37%  24.85%  0.86%   \n",
       "228  Zilean   Support      MID    A  52.20   1.35  54.19%  14.12%  0.56%   \n",
       "229  Zilean   Support  SUPPORT    A  49.44   1.68  50.83%  81.95%  3.38%   \n",
       "230     Zoe      Mage      MID    A  49.77   4.62  49.84%  94.18%  3.62%   \n",
       "231    Zyra      Mage  SUPPORT    A  49.55   1.74  52.18%  92.46%  3.85%   \n",
       "\n",
       "      Ban %   KDA  \n",
       "0     2.03%  1.97  \n",
       "1     1.04%  2.56  \n",
       "2    12.88%  2.34  \n",
       "3    12.88%  2.04  \n",
       "4    21.91%  2.23  \n",
       "..      ...   ...  \n",
       "227   0.60%  2.36  \n",
       "228   1.40%  3.46  \n",
       "229   1.40%  3.03  \n",
       "230   1.41%  2.58  \n",
       "231   1.96%  2.13  \n",
       "\n",
       "[232 rows x 11 columns]"
      ]
     },
     "execution_count": 5,
     "metadata": {},
     "output_type": "execute_result"
    }
   ],
   "source": [
    "lol"
   ]
  },
  {
   "cell_type": "code",
   "execution_count": 7,
   "id": "db9e4712",
   "metadata": {},
   "outputs": [
    {
     "data": {
      "text/plain": [
       "array(['Fighter', 'Mage', 'Assassin', 'Marksman', 'Tank', 'Support', nan],\n",
       "      dtype=object)"
      ]
     },
     "execution_count": 7,
     "metadata": {},
     "output_type": "execute_result"
    }
   ],
   "source": [
    "lol['Class'].unique()"
   ]
  },
  {
   "cell_type": "code",
   "execution_count": 8,
   "id": "ff718bd2",
   "metadata": {},
   "outputs": [
    {
     "data": {
      "text/plain": [
       "array(['TOP', 'MID', 'SUPPORT', 'JUNGLE', 'ADC'], dtype=object)"
      ]
     },
     "execution_count": 8,
     "metadata": {},
     "output_type": "execute_result"
    }
   ],
   "source": [
    "lol['Role'].unique()"
   ]
  },
  {
   "cell_type": "code",
   "execution_count": 13,
   "id": "7c92a1d8",
   "metadata": {},
   "outputs": [
    {
     "data": {
      "text/plain": [
       "<Axes: title={'center': 'Lane dos Campeões'}, xlabel='Role', ylabel='KDA'>"
      ]
     },
     "execution_count": 13,
     "metadata": {},
     "output_type": "execute_result"
    },
    {
     "data": {
      "image/png": "[encoded data removed]",
      "text/plain": [
       "<Figure size 1400x500 with 1 Axes>"
      ]
     },
     "metadata": {},
     "output_type": "display_data"
    }
   ],
   "source": [
    "plt.figure(figsize=(14, 5))\n",
    "plt.title('Lane dos Campeões')\n",
    "sns.barplot(data=lol, x='Role', y='KDA', ci=None, estimator=sum)"
   ]
  },
  {
   "cell_type": "code",
   "execution_count": 14,
   "id": "fd703ff9",
   "metadata": {},
   "outputs": [
    {
     "data": {
      "text/plain": [
       "<Axes: title={'center': 'Lane dos Campeões'}, xlabel='Tier', ylabel='KDA'>"
      ]
     },
     "execution_count": 14,
     "metadata": {},
     "output_type": "execute_result"
    },
    {
     "data": {
      "image/png": "[encoded data removed]",
      "text/plain": [
       "<Figure size 1400x500 with 1 Axes>"
      ]
     },
     "metadata": {},
     "output_type": "display_data"
    }
   ],
   "source": [
    "plt.figure(figsize=(14, 5))\n",
    "plt.title('Lane dos Campeões')\n",
    "sns.barplot(data=lol, x='Tier', y='KDA', ci=None, estimator=sum)"
   ]
  },
  {
   "cell_type": "code",
   "execution_count": 18,
   "id": "16d5315a",
   "metadata": {},
   "outputs": [
    {
     "data": {
      "text/html": [
       "<div>\n",
       "<style scoped>\n",
       "    .dataframe tbody tr th:only-of-type {\n",
       "        vertical-align: middle;\n",
       "    }\n",
       "\n",
       "    .dataframe tbody tr th {\n",
       "        vertical-align: top;\n",
       "    }\n",
       "\n",
       "    .dataframe thead th {\n",
       "        text-align: right;\n",
       "    }\n",
       "</style>\n",
       "<table border=\"1\" class=\"dataframe\">\n",
       "  <thead>\n",
       "    <tr style=\"text-align: right;\">\n",
       "      <th></th>\n",
       "      <th>Score</th>\n",
       "      <th>Trend</th>\n",
       "      <th>KDA</th>\n",
       "    </tr>\n",
       "  </thead>\n",
       "  <tbody>\n",
       "    <tr>\n",
       "      <th>count</th>\n",
       "      <td>232.000000</td>\n",
       "      <td>232.000000</td>\n",
       "      <td>232.000000</td>\n",
       "    </tr>\n",
       "    <tr>\n",
       "      <th>mean</th>\n",
       "      <td>50.000216</td>\n",
       "      <td>-0.264483</td>\n",
       "      <td>2.331336</td>\n",
       "    </tr>\n",
       "    <tr>\n",
       "      <th>std</th>\n",
       "      <td>16.532143</td>\n",
       "      <td>6.439499</td>\n",
       "      <td>0.415322</td>\n",
       "    </tr>\n",
       "    <tr>\n",
       "      <th>min</th>\n",
       "      <td>11.030000</td>\n",
       "      <td>-20.170000</td>\n",
       "      <td>1.450000</td>\n",
       "    </tr>\n",
       "    <tr>\n",
       "      <th>25%</th>\n",
       "      <td>38.852500</td>\n",
       "      <td>-3.460000</td>\n",
       "      <td>2.040000</td>\n",
       "    </tr>\n",
       "    <tr>\n",
       "      <th>50%</th>\n",
       "      <td>46.560000</td>\n",
       "      <td>-0.815000</td>\n",
       "      <td>2.300000</td>\n",
       "    </tr>\n",
       "    <tr>\n",
       "      <th>75%</th>\n",
       "      <td>59.247500</td>\n",
       "      <td>2.100000</td>\n",
       "      <td>2.542500</td>\n",
       "    </tr>\n",
       "    <tr>\n",
       "      <th>max</th>\n",
       "      <td>94.230000</td>\n",
       "      <td>44.710000</td>\n",
       "      <td>4.110000</td>\n",
       "    </tr>\n",
       "  </tbody>\n",
       "</table>\n",
       "</div>"
      ],
      "text/plain": [
       "            Score       Trend         KDA\n",
       "count  232.000000  232.000000  232.000000\n",
       "mean    50.000216   -0.264483    2.331336\n",
       "std     16.532143    6.439499    0.415322\n",
       "min     11.030000  -20.170000    1.450000\n",
       "25%     38.852500   -3.460000    2.040000\n",
       "50%     46.560000   -0.815000    2.300000\n",
       "75%     59.247500    2.100000    2.542500\n",
       "max     94.230000   44.710000    4.110000"
      ]
     },
     "execution_count": 18,
     "metadata": {},
     "output_type": "execute_result"
    }
   ],
   "source": [
    "lol.describe()"
   ]
  },
  {
   "cell_type": "code",
   "execution_count": 19,
   "id": "8134f983",
   "metadata": {},
   "outputs": [
    {
     "name": "stdout",
     "output_type": "stream",
     "text": [
      "<class 'pandas.core.frame.DataFrame'>\n",
      "RangeIndex: 232 entries, 0 to 231\n",
      "Data columns (total 11 columns):\n",
      " #   Column  Non-Null Count  Dtype  \n",
      "---  ------  --------------  -----  \n",
      " 0   Name    232 non-null    object \n",
      " 1   Class   231 non-null    object \n",
      " 2   Role    232 non-null    object \n",
      " 3   Tier    232 non-null    object \n",
      " 4   Score   232 non-null    float64\n",
      " 5   Trend   232 non-null    float64\n",
      " 6   Win %   232 non-null    object \n",
      " 7   Role %  232 non-null    object \n",
      " 8   Pick %  232 non-null    object \n",
      " 9   Ban %   232 non-null    object \n",
      " 10  KDA     232 non-null    float64\n",
      "dtypes: float64(3), object(8)\n",
      "memory usage: 20.1+ KB\n"
     ]
    }
   ],
   "source": [
    "lol.info()"
   ]
  },
  {
   "cell_type": "code",
   "execution_count": 32,
   "id": "c0aa9f77",
   "metadata": {},
   "outputs": [],
   "source": [
    "tier = lol.groupby('Tier')"
   ]
  },
  {
   "cell_type": "code",
   "execution_count": 34,
   "id": "9e8ec0ad",
   "metadata": {},
   "outputs": [
    {
     "data": {
      "text/plain": [
       "Tier\n",
       "A      58\n",
       "B      58\n",
       "C      35\n",
       "D      23\n",
       "God    23\n",
       "S      34\n",
       "Name: Class, dtype: int64"
      ]
     },
     "execution_count": 34,
     "metadata": {},
     "output_type": "execute_result"
    }
   ],
   "source": [
    "tier['Class'].count()"
   ]
  }
 ],
 "metadata": {
  "kernelspec": {
   "display_name": "Python 3 (ipykernel)",
   "language": "python",
   "name": "python3"
  },
  "language_info": {
   "codemirror_mode": {
    "name": "ipython",
    "version": 3
   },
   "file_extension": ".py",
   "mimetype": "text/x-python",
   "name": "python",
   "nbconvert_exporter": "python",
   "pygments_lexer": "ipython3",
   "version": "3.10.9"
  }
 },
 "nbformat": 4,
 "nbformat_minor": 5
}
